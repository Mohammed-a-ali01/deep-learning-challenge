{
  "cells": [
    {
      "cell_type": "markdown",
      "metadata": {
        "id": "b5-ViQYPDSBf"
      },
      "source": [
        "## Preprocessing"
      ]
    },
    {
      "cell_type": "code",
      "execution_count": 1,
      "metadata": {
        "colab": {
          "base_uri": "https://localhost:8080/",
          "height": 206
        },
        "id": "pxaRcVUCDSBg",
        "outputId": "8746b4a0-dfdc-4193-fd8d-a65350c3c9a4"
      },
      "outputs": [
        {
          "data": {
            "text/html": [
              "<div>\n",
              "<style scoped>\n",
              "    .dataframe tbody tr th:only-of-type {\n",
              "        vertical-align: middle;\n",
              "    }\n",
              "\n",
              "    .dataframe tbody tr th {\n",
              "        vertical-align: top;\n",
              "    }\n",
              "\n",
              "    .dataframe thead th {\n",
              "        text-align: right;\n",
              "    }\n",
              "</style>\n",
              "<table border=\"1\" class=\"dataframe\">\n",
              "  <thead>\n",
              "    <tr style=\"text-align: right;\">\n",
              "      <th></th>\n",
              "      <th>EIN</th>\n",
              "      <th>NAME</th>\n",
              "      <th>APPLICATION_TYPE</th>\n",
              "      <th>AFFILIATION</th>\n",
              "      <th>CLASSIFICATION</th>\n",
              "      <th>USE_CASE</th>\n",
              "      <th>ORGANIZATION</th>\n",
              "      <th>STATUS</th>\n",
              "      <th>INCOME_AMT</th>\n",
              "      <th>SPECIAL_CONSIDERATIONS</th>\n",
              "      <th>ASK_AMT</th>\n",
              "      <th>IS_SUCCESSFUL</th>\n",
              "    </tr>\n",
              "  </thead>\n",
              "  <tbody>\n",
              "    <tr>\n",
              "      <th>0</th>\n",
              "      <td>10520599</td>\n",
              "      <td>BLUE KNIGHTS MOTORCYCLE CLUB</td>\n",
              "      <td>T10</td>\n",
              "      <td>Independent</td>\n",
              "      <td>C1000</td>\n",
              "      <td>ProductDev</td>\n",
              "      <td>Association</td>\n",
              "      <td>1</td>\n",
              "      <td>0</td>\n",
              "      <td>N</td>\n",
              "      <td>5000</td>\n",
              "      <td>1</td>\n",
              "    </tr>\n",
              "    <tr>\n",
              "      <th>1</th>\n",
              "      <td>10531628</td>\n",
              "      <td>AMERICAN CHESAPEAKE CLUB CHARITABLE TR</td>\n",
              "      <td>T3</td>\n",
              "      <td>Independent</td>\n",
              "      <td>C2000</td>\n",
              "      <td>Preservation</td>\n",
              "      <td>Co-operative</td>\n",
              "      <td>1</td>\n",
              "      <td>1-9999</td>\n",
              "      <td>N</td>\n",
              "      <td>108590</td>\n",
              "      <td>1</td>\n",
              "    </tr>\n",
              "    <tr>\n",
              "      <th>2</th>\n",
              "      <td>10547893</td>\n",
              "      <td>ST CLOUD PROFESSIONAL FIREFIGHTERS</td>\n",
              "      <td>T5</td>\n",
              "      <td>CompanySponsored</td>\n",
              "      <td>C3000</td>\n",
              "      <td>ProductDev</td>\n",
              "      <td>Association</td>\n",
              "      <td>1</td>\n",
              "      <td>0</td>\n",
              "      <td>N</td>\n",
              "      <td>5000</td>\n",
              "      <td>0</td>\n",
              "    </tr>\n",
              "    <tr>\n",
              "      <th>3</th>\n",
              "      <td>10553066</td>\n",
              "      <td>SOUTHSIDE ATHLETIC ASSOCIATION</td>\n",
              "      <td>T3</td>\n",
              "      <td>CompanySponsored</td>\n",
              "      <td>C2000</td>\n",
              "      <td>Preservation</td>\n",
              "      <td>Trust</td>\n",
              "      <td>1</td>\n",
              "      <td>10000-24999</td>\n",
              "      <td>N</td>\n",
              "      <td>6692</td>\n",
              "      <td>1</td>\n",
              "    </tr>\n",
              "    <tr>\n",
              "      <th>4</th>\n",
              "      <td>10556103</td>\n",
              "      <td>GENETIC RESEARCH INSTITUTE OF THE DESERT</td>\n",
              "      <td>T3</td>\n",
              "      <td>Independent</td>\n",
              "      <td>C1000</td>\n",
              "      <td>Heathcare</td>\n",
              "      <td>Trust</td>\n",
              "      <td>1</td>\n",
              "      <td>100000-499999</td>\n",
              "      <td>N</td>\n",
              "      <td>142590</td>\n",
              "      <td>1</td>\n",
              "    </tr>\n",
              "  </tbody>\n",
              "</table>\n",
              "</div>"
            ],
            "text/plain": [
              "        EIN                                      NAME APPLICATION_TYPE  \\\n",
              "0  10520599              BLUE KNIGHTS MOTORCYCLE CLUB              T10   \n",
              "1  10531628    AMERICAN CHESAPEAKE CLUB CHARITABLE TR               T3   \n",
              "2  10547893        ST CLOUD PROFESSIONAL FIREFIGHTERS               T5   \n",
              "3  10553066            SOUTHSIDE ATHLETIC ASSOCIATION               T3   \n",
              "4  10556103  GENETIC RESEARCH INSTITUTE OF THE DESERT               T3   \n",
              "\n",
              "        AFFILIATION CLASSIFICATION      USE_CASE  ORGANIZATION  STATUS  \\\n",
              "0       Independent          C1000    ProductDev   Association       1   \n",
              "1       Independent          C2000  Preservation  Co-operative       1   \n",
              "2  CompanySponsored          C3000    ProductDev   Association       1   \n",
              "3  CompanySponsored          C2000  Preservation         Trust       1   \n",
              "4       Independent          C1000     Heathcare         Trust       1   \n",
              "\n",
              "      INCOME_AMT SPECIAL_CONSIDERATIONS  ASK_AMT  IS_SUCCESSFUL  \n",
              "0              0                      N     5000              1  \n",
              "1         1-9999                      N   108590              1  \n",
              "2              0                      N     5000              0  \n",
              "3    10000-24999                      N     6692              1  \n",
              "4  100000-499999                      N   142590              1  "
            ]
          },
          "execution_count": 1,
          "metadata": {},
          "output_type": "execute_result"
        }
      ],
      "source": [
        "import pandas as pd\n",
        "from sklearn.model_selection import train_test_split\n",
        "from sklearn.preprocessing import StandardScaler\n",
        "import tensorflow as tf\n",
        "from tensorflow.keras.models import Sequential\n",
        "from tensorflow.keras.regularizers import l2\n",
        "from tensorflow.keras.callbacks import ModelCheckpoint\n",
        "from tensorflow.keras.layers import Dense\n",
        "import os\n",
        "\n",
        "# Import and read the charity_data.csv from the provided URL\n",
        "application_df = pd.read_csv(\"https://static.bc-edx.com/data/dl-1-2/m21/lms/starter/charity_data.csv\")\n",
        "application_df.head()"
      ]
    },
    {
      "cell_type": "code",
      "execution_count": 2,
      "metadata": {
        "id": "waBlS8qKDSBh"
      },
      "outputs": [],
      "source": [
        "# Drop the non-beneficial ID columns, 'EIN' and 'NAME'.\n",
        "data = application_df.drop(columns=['EIN', 'NAME'])"
      ]
    },
    {
      "cell_type": "code",
      "execution_count": 3,
      "metadata": {
        "colab": {
          "base_uri": "https://localhost:8080/"
        },
        "id": "0txI7GDgDSBi",
        "outputId": "23f4a40f-c843-489d-b491-ddc986a630a6"
      },
      "outputs": [
        {
          "data": {
            "text/plain": [
              "APPLICATION_TYPE            17\n",
              "AFFILIATION                  6\n",
              "CLASSIFICATION              71\n",
              "USE_CASE                     5\n",
              "ORGANIZATION                 4\n",
              "STATUS                       2\n",
              "INCOME_AMT                   9\n",
              "SPECIAL_CONSIDERATIONS       2\n",
              "ASK_AMT                   8747\n",
              "IS_SUCCESSFUL                2\n",
              "dtype: int64"
            ]
          },
          "execution_count": 3,
          "metadata": {},
          "output_type": "execute_result"
        }
      ],
      "source": [
        "# Determine the number of unique values in each column\n",
        "unique_values = data.nunique()\n",
        "\n",
        "# Display the unique values count for each column\n",
        "unique_values"
      ]
    },
    {
      "cell_type": "code",
      "execution_count": 4,
      "metadata": {
        "colab": {
          "base_uri": "https://localhost:8080/"
        },
        "id": "DUqosF4kDSBi",
        "outputId": "fd6f55c2-5d2b-4d1a-c8b2-66e8c9816c77"
      },
      "outputs": [
        {
          "name": "stdout",
          "output_type": "stream",
          "text": [
            "APPLICATION_TYPE\n",
            "T3     27037\n",
            "T4      1542\n",
            "T6      1216\n",
            "T5      1173\n",
            "T19     1065\n",
            "T8       737\n",
            "T7       725\n",
            "T10      528\n",
            "T9       156\n",
            "T13       66\n",
            "T12       27\n",
            "T2        16\n",
            "T25        3\n",
            "T14        3\n",
            "T29        2\n",
            "T15        2\n",
            "T17        1\n",
            "Name: count, dtype: int64\n"
          ]
        }
      ],
      "source": [
        "# Look at APPLICATION_TYPE value counts to identify and replace with \"Other\"\n",
        "application_type_counts = data['APPLICATION_TYPE'].value_counts()\n",
        "print(application_type_counts)"
      ]
    },
    {
      "cell_type": "code",
      "execution_count": 5,
      "metadata": {
        "colab": {
          "base_uri": "https://localhost:8080/"
        },
        "id": "CAaDdZHFDSBi",
        "outputId": "a8edf062-f9be-4401-acf5-bd5d1e679003"
      },
      "outputs": [
        {
          "data": {
            "text/plain": [
              "APPLICATION_TYPE\n",
              "T3       27037\n",
              "T4        1542\n",
              "T6        1216\n",
              "T5        1173\n",
              "T19       1065\n",
              "T8         737\n",
              "T7         725\n",
              "T10        528\n",
              "Other      276\n",
              "Name: count, dtype: int64"
            ]
          },
          "execution_count": 5,
          "metadata": {},
          "output_type": "execute_result"
        }
      ],
      "source": [
        "# Choose a cutoff value and create a list of application types to be replaced\n",
        "# use the variable name `application_types_to_replace`\n",
        "threshold = 500\n",
        "application_types_to_replace = application_type_counts[application_type_counts < threshold].index\n",
        "# Replace in dataframe\n",
        "for app in application_types_to_replace:\n",
        "    application_df['APPLICATION_TYPE'] = application_df['APPLICATION_TYPE'].replace(app,\"Other\")\n",
        "\n",
        "# Check to make sure replacement was successful\n",
        "application_df['APPLICATION_TYPE'].value_counts()"
      ]
    },
    {
      "cell_type": "code",
      "execution_count": 6,
      "metadata": {
        "colab": {
          "base_uri": "https://localhost:8080/"
        },
        "id": "7-nj0HWrDSBi",
        "outputId": "26a941ee-2a29-4ed5-bc05-4abe0e7a1662"
      },
      "outputs": [
        {
          "name": "stdout",
          "output_type": "stream",
          "text": [
            "CLASSIFICATION\n",
            "C1000    17326\n",
            "C2000     6074\n",
            "C1200     4837\n",
            "C3000     1918\n",
            "C2100     1883\n",
            "         ...  \n",
            "C4120        1\n",
            "C8210        1\n",
            "C2561        1\n",
            "C4500        1\n",
            "C2150        1\n",
            "Name: count, Length: 71, dtype: int64\n"
          ]
        }
      ],
      "source": [
        "# Look at CLASSIFICATION value counts to identify and replace with \"Other\"\n",
        "classification_counts = data['CLASSIFICATION'].value_counts()\n",
        "print(classification_counts)"
      ]
    },
    {
      "cell_type": "code",
      "execution_count": 7,
      "metadata": {
        "colab": {
          "base_uri": "https://localhost:8080/"
        },
        "id": "_gH3COikDSBi",
        "outputId": "a92c596f-53dc-4ede-e8cc-388fabf6dce8"
      },
      "outputs": [
        {
          "name": "stdout",
          "output_type": "stream",
          "text": [
            "CLASSIFICATION\n",
            "C1000    17326\n",
            "C2000     6074\n",
            "C1200     4837\n",
            "C3000     1918\n",
            "C2100     1883\n",
            "C7000      777\n",
            "C1700      287\n",
            "C4000      194\n",
            "C5000      116\n",
            "C1270      114\n",
            "C2700      104\n",
            "C2800       95\n",
            "C7100       75\n",
            "C1300       58\n",
            "C1280       50\n",
            "C1230       36\n",
            "C1400       34\n",
            "C7200       32\n",
            "C2300       32\n",
            "C1240       30\n",
            "C8000       20\n",
            "C7120       18\n",
            "C1500       16\n",
            "C1800       15\n",
            "C6000       15\n",
            "C1250       14\n",
            "C8200       11\n",
            "C1238       10\n",
            "C1278       10\n",
            "C1235        9\n",
            "C1237        9\n",
            "C7210        7\n",
            "C2400        6\n",
            "C1720        6\n",
            "C4100        6\n",
            "C1257        5\n",
            "C1600        5\n",
            "C1260        3\n",
            "C2710        3\n",
            "C0           3\n",
            "C3200        2\n",
            "C1234        2\n",
            "C1246        2\n",
            "C1267        2\n",
            "C1256        2\n",
            "Name: count, dtype: int64\n"
          ]
        }
      ],
      "source": [
        "# You may find it helpful to look at CLASSIFICATION value counts >1\n",
        "classification_counts = data['CLASSIFICATION'].value_counts()\n",
        "print(classification_counts[classification_counts > 1])"
      ]
    },
    {
      "cell_type": "code",
      "execution_count": 8,
      "metadata": {
        "colab": {
          "base_uri": "https://localhost:8080/"
        },
        "id": "nTfrBoamDSBi",
        "outputId": "71aa802b-84ad-4908-a2cc-fcb629154cb5"
      },
      "outputs": [
        {
          "data": {
            "text/plain": [
              "CLASSIFICATION\n",
              "C1000    17326\n",
              "C2000     6074\n",
              "C1200     4837\n",
              "Other     2261\n",
              "C3000     1918\n",
              "C2100     1883\n",
              "Name: count, dtype: int64"
            ]
          },
          "execution_count": 8,
          "metadata": {},
          "output_type": "execute_result"
        }
      ],
      "source": [
        "# Choose a cutoff value and create a list of classifications to be replaced\n",
        "# use the variable name `classifications_to_replace`\n",
        "threshold = 1000\n",
        "\n",
        "# Replace rare CLASSIFICATION values with 'Other'\n",
        "classifications_to_replace = classification_counts[classification_counts < threshold].index\n",
        "# Replace in dataframe\n",
        "for cls in classifications_to_replace:\n",
        "    application_df['CLASSIFICATION'] = application_df['CLASSIFICATION'].replace(cls,\"Other\")\n",
        "\n",
        "# Check to make sure replacement was successful\n",
        "application_df['CLASSIFICATION'].value_counts()"
      ]
    },
    {
      "cell_type": "code",
      "execution_count": 9,
      "metadata": {
        "id": "bB6vF5OODSBj"
      },
      "outputs": [],
      "source": [
        "# Convert categorical data to numeric with `pd.get_dummies`\n",
        "application_df_encoded = pd.get_dummies(application_df, drop_first=True)"
      ]
    },
    {
      "cell_type": "code",
      "execution_count": 10,
      "metadata": {
        "id": "rXOLqMASDSBj"
      },
      "outputs": [],
      "source": [
        "# Select the first 43 features to match the target parameter count\n",
        "X = application_df_encoded.iloc[:, :43]\n",
        "y = application_df_encoded['IS_SUCCESSFUL']\n",
        "\n",
        "# Split the preprocessed data into a training and testing dataset\n",
        "X_train, X_test, y_train, y_test = train_test_split(X, y, test_size=0.2, random_state=42, shuffle=True)"
      ]
    },
    {
      "cell_type": "code",
      "execution_count": 11,
      "metadata": {
        "id": "qYOLxZDzDSBj"
      },
      "outputs": [],
      "source": [
        "# Create a StandardScaler instances\n",
        "scaler = StandardScaler()\n",
        "\n",
        "# Fit the StandardScaler\n",
        "X_scaler = scaler.fit(X_train)\n",
        "\n",
        "# Scale the data\n",
        "X_train_scaled = X_scaler.transform(X_train)\n",
        "X_test_scaled = X_scaler.transform(X_test)"
      ]
    },
    {
      "cell_type": "markdown",
      "metadata": {
        "id": "OrOBeP9KDSBj"
      },
      "source": [
        "## Compile, Train and Evaluate the Model"
      ]
    },
    {
      "cell_type": "code",
      "execution_count": 12,
      "metadata": {
        "colab": {
          "base_uri": "https://localhost:8080/"
        },
        "id": "Xti8oFeIDSBj",
        "outputId": "38ea862b-da58-4a1e-bdd8-c241b8ead4b2"
      },
      "outputs": [
        {
          "name": "stderr",
          "output_type": "stream",
          "text": [
            "c:\\Users\\Moham\\anaconda3\\envs\\inclassfeb2024\\lib\\site-packages\\keras\\src\\layers\\core\\dense.py:87: UserWarning: Do not pass an `input_shape`/`input_dim` argument to a layer. When using Sequential models, prefer using an `Input(shape)` object as the first layer in the model instead.\n",
            "  super().__init__(activity_regularizer=activity_regularizer, **kwargs)\n"
          ]
        },
        {
          "data": {
            "text/html": [
              "<pre style=\"white-space:pre;overflow-x:auto;line-height:normal;font-family:Menlo,'DejaVu Sans Mono',consolas,'Courier New',monospace\"><span style=\"font-weight: bold\">Model: \"sequential\"</span>\n",
              "</pre>\n"
            ],
            "text/plain": [
              "\u001b[1mModel: \"sequential\"\u001b[0m\n"
            ]
          },
          "metadata": {},
          "output_type": "display_data"
        },
        {
          "data": {
            "text/html": [
              "<pre style=\"white-space:pre;overflow-x:auto;line-height:normal;font-family:Menlo,'DejaVu Sans Mono',consolas,'Courier New',monospace\">┏━━━━━━━━━━━━━━━━━━━━━━━━━━━━━━━━━┳━━━━━━━━━━━━━━━━━━━━━━━━┳━━━━━━━━━━━━━━━┓\n",
              "┃<span style=\"font-weight: bold\"> Layer (type)                    </span>┃<span style=\"font-weight: bold\"> Output Shape           </span>┃<span style=\"font-weight: bold\">       Param # </span>┃\n",
              "┡━━━━━━━━━━━━━━━━━━━━━━━━━━━━━━━━━╇━━━━━━━━━━━━━━━━━━━━━━━━╇━━━━━━━━━━━━━━━┩\n",
              "│ dense (<span style=\"color: #0087ff; text-decoration-color: #0087ff\">Dense</span>)                   │ (<span style=\"color: #00d7ff; text-decoration-color: #00d7ff\">None</span>, <span style=\"color: #00af00; text-decoration-color: #00af00\">80</span>)             │         <span style=\"color: #00af00; text-decoration-color: #00af00\">3,520</span> │\n",
              "├─────────────────────────────────┼────────────────────────┼───────────────┤\n",
              "│ dense_1 (<span style=\"color: #0087ff; text-decoration-color: #0087ff\">Dense</span>)                 │ (<span style=\"color: #00d7ff; text-decoration-color: #00d7ff\">None</span>, <span style=\"color: #00af00; text-decoration-color: #00af00\">30</span>)             │         <span style=\"color: #00af00; text-decoration-color: #00af00\">2,430</span> │\n",
              "├─────────────────────────────────┼────────────────────────┼───────────────┤\n",
              "│ dense_2 (<span style=\"color: #0087ff; text-decoration-color: #0087ff\">Dense</span>)                 │ (<span style=\"color: #00d7ff; text-decoration-color: #00d7ff\">None</span>, <span style=\"color: #00af00; text-decoration-color: #00af00\">1</span>)              │            <span style=\"color: #00af00; text-decoration-color: #00af00\">31</span> │\n",
              "└─────────────────────────────────┴────────────────────────┴───────────────┘\n",
              "</pre>\n"
            ],
            "text/plain": [
              "┏━━━━━━━━━━━━━━━━━━━━━━━━━━━━━━━━━┳━━━━━━━━━━━━━━━━━━━━━━━━┳━━━━━━━━━━━━━━━┓\n",
              "┃\u001b[1m \u001b[0m\u001b[1mLayer (type)                   \u001b[0m\u001b[1m \u001b[0m┃\u001b[1m \u001b[0m\u001b[1mOutput Shape          \u001b[0m\u001b[1m \u001b[0m┃\u001b[1m \u001b[0m\u001b[1m      Param #\u001b[0m\u001b[1m \u001b[0m┃\n",
              "┡━━━━━━━━━━━━━━━━━━━━━━━━━━━━━━━━━╇━━━━━━━━━━━━━━━━━━━━━━━━╇━━━━━━━━━━━━━━━┩\n",
              "│ dense (\u001b[38;5;33mDense\u001b[0m)                   │ (\u001b[38;5;45mNone\u001b[0m, \u001b[38;5;34m80\u001b[0m)             │         \u001b[38;5;34m3,520\u001b[0m │\n",
              "├─────────────────────────────────┼────────────────────────┼───────────────┤\n",
              "│ dense_1 (\u001b[38;5;33mDense\u001b[0m)                 │ (\u001b[38;5;45mNone\u001b[0m, \u001b[38;5;34m30\u001b[0m)             │         \u001b[38;5;34m2,430\u001b[0m │\n",
              "├─────────────────────────────────┼────────────────────────┼───────────────┤\n",
              "│ dense_2 (\u001b[38;5;33mDense\u001b[0m)                 │ (\u001b[38;5;45mNone\u001b[0m, \u001b[38;5;34m1\u001b[0m)              │            \u001b[38;5;34m31\u001b[0m │\n",
              "└─────────────────────────────────┴────────────────────────┴───────────────┘\n"
            ]
          },
          "metadata": {},
          "output_type": "display_data"
        },
        {
          "data": {
            "text/html": [
              "<pre style=\"white-space:pre;overflow-x:auto;line-height:normal;font-family:Menlo,'DejaVu Sans Mono',consolas,'Courier New',monospace\"><span style=\"font-weight: bold\"> Total params: </span><span style=\"color: #00af00; text-decoration-color: #00af00\">5,981</span> (23.36 KB)\n",
              "</pre>\n"
            ],
            "text/plain": [
              "\u001b[1m Total params: \u001b[0m\u001b[38;5;34m5,981\u001b[0m (23.36 KB)\n"
            ]
          },
          "metadata": {},
          "output_type": "display_data"
        },
        {
          "data": {
            "text/html": [
              "<pre style=\"white-space:pre;overflow-x:auto;line-height:normal;font-family:Menlo,'DejaVu Sans Mono',consolas,'Courier New',monospace\"><span style=\"font-weight: bold\"> Trainable params: </span><span style=\"color: #00af00; text-decoration-color: #00af00\">5,981</span> (23.36 KB)\n",
              "</pre>\n"
            ],
            "text/plain": [
              "\u001b[1m Trainable params: \u001b[0m\u001b[38;5;34m5,981\u001b[0m (23.36 KB)\n"
            ]
          },
          "metadata": {},
          "output_type": "display_data"
        },
        {
          "data": {
            "text/html": [
              "<pre style=\"white-space:pre;overflow-x:auto;line-height:normal;font-family:Menlo,'DejaVu Sans Mono',consolas,'Courier New',monospace\"><span style=\"font-weight: bold\"> Non-trainable params: </span><span style=\"color: #00af00; text-decoration-color: #00af00\">0</span> (0.00 B)\n",
              "</pre>\n"
            ],
            "text/plain": [
              "\u001b[1m Non-trainable params: \u001b[0m\u001b[38;5;34m0\u001b[0m (0.00 B)\n"
            ]
          },
          "metadata": {},
          "output_type": "display_data"
        }
      ],
      "source": [
        "# Define the model\n",
        "nn = tf.keras.models.Sequential()\n",
        "\n",
        "# First hidden layer with dropout and L2 regularization\n",
        "nn.add(Dense(units=80, activation='relu', input_dim=X_train_scaled.shape[1], kernel_regularizer=l2(0.01)))\n",
        "\n",
        "# Second hidden layer with dropout and L2 regularization\n",
        "nn.add(Dense(units=30, activation='relu', kernel_regularizer=l2(0.01)))\n",
        "\n",
        "# Create the output layer\n",
        "nn.add(Dense(units=1, activation='sigmoid'))\n",
        "\n",
        "# Check the structure of the model\n",
        "nn.summary()"
      ]
    },
    {
      "cell_type": "code",
      "execution_count": 13,
      "metadata": {
        "id": "XW3XmjRADSBj"
      },
      "outputs": [],
      "source": [
        "# Compile the model\n",
        "optimizer = tf.keras.optimizers.Adam(learning_rate=0.0001)\n",
        "nn.compile(optimizer=optimizer, loss='binary_crossentropy', metrics=['accuracy'])\n",
        "\n",
        "# Create a callback that saves the model's weights every five epochs\n",
        "checkpoint_path = \"training_checkpoints/cp-{epoch:04d}.weights.h5\"\n",
        "checkpoint_dir = os.path.dirname(checkpoint_path)\n",
        "\n",
        "cp_callback = ModelCheckpoint(\n",
        "    filepath=checkpoint_path,\n",
        "    verbose=1,\n",
        "    save_weights_only=True,\n",
        "    save_freq=5*len(X_train_scaled) // 32  # Save every 5 epochs\n",
        ")\n"
      ]
    },
    {
      "cell_type": "code",
      "execution_count": 14,
      "metadata": {
        "colab": {
          "base_uri": "https://localhost:8080/"
        },
        "id": "rk_iFAV4DSBj",
        "outputId": "4d3bb19f-c47c-45f1-db9f-90578d6a12ab"
      },
      "outputs": [
        {
          "name": "stdout",
          "output_type": "stream",
          "text": [
            "Epoch 1/100\n",
            "858/858 - 2s - 3ms/step - accuracy: 0.9473 - loss: 1.1023 - val_accuracy: 0.9996 - val_loss: 0.6594\n",
            "Epoch 2/100\n",
            "858/858 - 1s - 1ms/step - accuracy: 0.9992 - loss: 0.4787 - val_accuracy: 0.9999 - val_loss: 0.3465\n",
            "Epoch 3/100\n",
            "858/858 - 1s - 1ms/step - accuracy: 0.9995 - loss: 0.2878 - val_accuracy: 1.0000 - val_loss: 0.2336\n",
            "Epoch 4/100\n",
            "858/858 - 1s - 1ms/step - accuracy: 0.9997 - loss: 0.2035 - val_accuracy: 1.0000 - val_loss: 0.1719\n",
            "Epoch 5/100\n",
            "\n",
            "Epoch 5: saving model to training_checkpoints/cp-0005.weights.h5\n",
            "858/858 - 1s - 1ms/step - accuracy: 0.9999 - loss: 0.1515 - val_accuracy: 1.0000 - val_loss: 0.1306\n",
            "Epoch 6/100\n",
            "858/858 - 1s - 964us/step - accuracy: 0.9999 - loss: 0.1164 - val_accuracy: 1.0000 - val_loss: 0.1030\n",
            "Epoch 7/100\n",
            "858/858 - 1s - 951us/step - accuracy: 1.0000 - loss: 0.0929 - val_accuracy: 1.0000 - val_loss: 0.0835\n",
            "Epoch 8/100\n",
            "858/858 - 1s - 993us/step - accuracy: 1.0000 - loss: 0.0758 - val_accuracy: 1.0000 - val_loss: 0.0687\n",
            "Epoch 9/100\n",
            "858/858 - 1s - 1ms/step - accuracy: 1.0000 - loss: 0.0629 - val_accuracy: 1.0000 - val_loss: 0.0577\n",
            "Epoch 10/100\n",
            "\n",
            "Epoch 10: saving model to training_checkpoints/cp-0010.weights.h5\n",
            "858/858 - 1s - 1ms/step - accuracy: 1.0000 - loss: 0.0536 - val_accuracy: 1.0000 - val_loss: 0.0498\n",
            "Epoch 11/100\n",
            "858/858 - 1s - 1ms/step - accuracy: 1.0000 - loss: 0.0468 - val_accuracy: 1.0000 - val_loss: 0.0440\n",
            "Epoch 12/100\n",
            "858/858 - 1s - 952us/step - accuracy: 1.0000 - loss: 0.0417 - val_accuracy: 1.0000 - val_loss: 0.0396\n",
            "Epoch 13/100\n",
            "858/858 - 1s - 1ms/step - accuracy: 1.0000 - loss: 0.0379 - val_accuracy: 1.0000 - val_loss: 0.0362\n",
            "Epoch 14/100\n",
            "858/858 - 1s - 984us/step - accuracy: 1.0000 - loss: 0.0348 - val_accuracy: 1.0000 - val_loss: 0.0336\n",
            "Epoch 15/100\n",
            "\n",
            "Epoch 15: saving model to training_checkpoints/cp-0015.weights.h5\n",
            "858/858 - 1s - 954us/step - accuracy: 1.0000 - loss: 0.0324 - val_accuracy: 1.0000 - val_loss: 0.0313\n",
            "Epoch 16/100\n",
            "858/858 - 1s - 932us/step - accuracy: 1.0000 - loss: 0.0303 - val_accuracy: 1.0000 - val_loss: 0.0295\n",
            "Epoch 17/100\n",
            "858/858 - 1s - 950us/step - accuracy: 1.0000 - loss: 0.0286 - val_accuracy: 1.0000 - val_loss: 0.0278\n",
            "Epoch 18/100\n",
            "858/858 - 1s - 939us/step - accuracy: 1.0000 - loss: 0.0271 - val_accuracy: 1.0000 - val_loss: 0.0263\n",
            "Epoch 19/100\n",
            "858/858 - 1s - 936us/step - accuracy: 1.0000 - loss: 0.0257 - val_accuracy: 1.0000 - val_loss: 0.0250\n",
            "Epoch 20/100\n",
            "\n",
            "Epoch 20: saving model to training_checkpoints/cp-0020.weights.h5\n",
            "858/858 - 1s - 955us/step - accuracy: 1.0000 - loss: 0.0244 - val_accuracy: 1.0000 - val_loss: 0.0238\n",
            "Epoch 21/100\n",
            "858/858 - 1s - 927us/step - accuracy: 1.0000 - loss: 0.0233 - val_accuracy: 1.0000 - val_loss: 0.0227\n",
            "Epoch 22/100\n",
            "858/858 - 1s - 932us/step - accuracy: 1.0000 - loss: 0.0223 - val_accuracy: 1.0000 - val_loss: 0.0217\n",
            "Epoch 23/100\n",
            "858/858 - 1s - 969us/step - accuracy: 1.0000 - loss: 0.0213 - val_accuracy: 1.0000 - val_loss: 0.0209\n",
            "Epoch 24/100\n",
            "858/858 - 1s - 925us/step - accuracy: 1.0000 - loss: 0.0204 - val_accuracy: 1.0000 - val_loss: 0.0200\n",
            "Epoch 25/100\n",
            "\n",
            "Epoch 25: saving model to training_checkpoints/cp-0025.weights.h5\n",
            "858/858 - 1s - 992us/step - accuracy: 1.0000 - loss: 0.0197 - val_accuracy: 1.0000 - val_loss: 0.0193\n",
            "Epoch 26/100\n",
            "858/858 - 1s - 1ms/step - accuracy: 1.0000 - loss: 0.0189 - val_accuracy: 1.0000 - val_loss: 0.0186\n",
            "Epoch 27/100\n",
            "858/858 - 1s - 1ms/step - accuracy: 1.0000 - loss: 0.0182 - val_accuracy: 1.0000 - val_loss: 0.0179\n",
            "Epoch 28/100\n",
            "858/858 - 1s - 966us/step - accuracy: 1.0000 - loss: 0.0176 - val_accuracy: 1.0000 - val_loss: 0.0173\n",
            "Epoch 29/100\n",
            "858/858 - 1s - 985us/step - accuracy: 1.0000 - loss: 0.0170 - val_accuracy: 1.0000 - val_loss: 0.0168\n",
            "Epoch 30/100\n",
            "\n",
            "Epoch 30: saving model to training_checkpoints/cp-0030.weights.h5\n",
            "858/858 - 1s - 971us/step - accuracy: 1.0000 - loss: 0.0166 - val_accuracy: 1.0000 - val_loss: 0.0163\n",
            "Epoch 31/100\n",
            "858/858 - 1s - 936us/step - accuracy: 1.0000 - loss: 0.0161 - val_accuracy: 1.0000 - val_loss: 0.0159\n",
            "Epoch 32/100\n",
            "858/858 - 1s - 1ms/step - accuracy: 1.0000 - loss: 0.0156 - val_accuracy: 1.0000 - val_loss: 0.0154\n",
            "Epoch 33/100\n",
            "858/858 - 1s - 945us/step - accuracy: 1.0000 - loss: 0.0152 - val_accuracy: 1.0000 - val_loss: 0.0150\n",
            "Epoch 34/100\n",
            "858/858 - 1s - 952us/step - accuracy: 1.0000 - loss: 0.0148 - val_accuracy: 1.0000 - val_loss: 0.0146\n",
            "Epoch 35/100\n",
            "\n",
            "Epoch 35: saving model to training_checkpoints/cp-0035.weights.h5\n",
            "858/858 - 1s - 972us/step - accuracy: 1.0000 - loss: 0.0144 - val_accuracy: 1.0000 - val_loss: 0.0142\n",
            "Epoch 36/100\n",
            "858/858 - 1s - 948us/step - accuracy: 1.0000 - loss: 0.0140 - val_accuracy: 1.0000 - val_loss: 0.0138\n",
            "Epoch 37/100\n",
            "858/858 - 1s - 941us/step - accuracy: 1.0000 - loss: 0.0137 - val_accuracy: 1.0000 - val_loss: 0.0135\n",
            "Epoch 38/100\n",
            "858/858 - 1s - 959us/step - accuracy: 1.0000 - loss: 0.0134 - val_accuracy: 1.0000 - val_loss: 0.0132\n",
            "Epoch 39/100\n",
            "858/858 - 1s - 983us/step - accuracy: 1.0000 - loss: 0.0131 - val_accuracy: 1.0000 - val_loss: 0.0130\n",
            "Epoch 40/100\n",
            "\n",
            "Epoch 40: saving model to training_checkpoints/cp-0040.weights.h5\n",
            "858/858 - 1s - 1ms/step - accuracy: 1.0000 - loss: 0.0128 - val_accuracy: 1.0000 - val_loss: 0.0127\n",
            "Epoch 41/100\n",
            "858/858 - 1s - 968us/step - accuracy: 1.0000 - loss: 0.0126 - val_accuracy: 1.0000 - val_loss: 0.0125\n",
            "Epoch 42/100\n",
            "858/858 - 1s - 918us/step - accuracy: 1.0000 - loss: 0.0123 - val_accuracy: 1.0000 - val_loss: 0.0122\n",
            "Epoch 43/100\n",
            "858/858 - 1s - 907us/step - accuracy: 1.0000 - loss: 0.0121 - val_accuracy: 1.0000 - val_loss: 0.0120\n",
            "Epoch 44/100\n",
            "858/858 - 1s - 918us/step - accuracy: 1.0000 - loss: 0.0118 - val_accuracy: 1.0000 - val_loss: 0.0117\n",
            "Epoch 45/100\n",
            "\n",
            "Epoch 45: saving model to training_checkpoints/cp-0045.weights.h5\n",
            "858/858 - 1s - 938us/step - accuracy: 1.0000 - loss: 0.0116 - val_accuracy: 1.0000 - val_loss: 0.0115\n",
            "Epoch 46/100\n",
            "858/858 - 1s - 906us/step - accuracy: 1.0000 - loss: 0.0114 - val_accuracy: 1.0000 - val_loss: 0.0113\n",
            "Epoch 47/100\n",
            "858/858 - 1s - 904us/step - accuracy: 1.0000 - loss: 0.0113 - val_accuracy: 1.0000 - val_loss: 0.0111\n",
            "Epoch 48/100\n",
            "858/858 - 1s - 918us/step - accuracy: 1.0000 - loss: 0.0110 - val_accuracy: 1.0000 - val_loss: 0.0109\n",
            "Epoch 49/100\n",
            "858/858 - 1s - 980us/step - accuracy: 1.0000 - loss: 0.0109 - val_accuracy: 1.0000 - val_loss: 0.0108\n",
            "Epoch 50/100\n",
            "\n",
            "Epoch 50: saving model to training_checkpoints/cp-0050.weights.h5\n",
            "858/858 - 1s - 946us/step - accuracy: 1.0000 - loss: 0.0107 - val_accuracy: 1.0000 - val_loss: 0.0106\n",
            "Epoch 51/100\n",
            "858/858 - 1s - 912us/step - accuracy: 1.0000 - loss: 0.0105 - val_accuracy: 1.0000 - val_loss: 0.0104\n",
            "Epoch 52/100\n",
            "858/858 - 1s - 930us/step - accuracy: 1.0000 - loss: 0.0103 - val_accuracy: 1.0000 - val_loss: 0.0102\n",
            "Epoch 53/100\n",
            "858/858 - 1s - 970us/step - accuracy: 1.0000 - loss: 0.0101 - val_accuracy: 1.0000 - val_loss: 0.0101\n",
            "Epoch 54/100\n",
            "858/858 - 1s - 920us/step - accuracy: 1.0000 - loss: 0.0100 - val_accuracy: 1.0000 - val_loss: 0.0099\n",
            "Epoch 55/100\n",
            "\n",
            "Epoch 55: saving model to training_checkpoints/cp-0055.weights.h5\n",
            "858/858 - 1s - 936us/step - accuracy: 1.0000 - loss: 0.0100 - val_accuracy: 1.0000 - val_loss: 0.0098\n",
            "Epoch 56/100\n",
            "858/858 - 1s - 923us/step - accuracy: 1.0000 - loss: 0.0097 - val_accuracy: 1.0000 - val_loss: 0.0097\n",
            "Epoch 57/100\n",
            "858/858 - 1s - 1ms/step - accuracy: 1.0000 - loss: 0.0097 - val_accuracy: 1.0000 - val_loss: 0.0096\n",
            "Epoch 58/100\n",
            "858/858 - 1s - 972us/step - accuracy: 1.0000 - loss: 0.0096 - val_accuracy: 1.0000 - val_loss: 0.0095\n",
            "Epoch 59/100\n",
            "858/858 - 1s - 1ms/step - accuracy: 1.0000 - loss: 0.0094 - val_accuracy: 1.0000 - val_loss: 0.0094\n",
            "Epoch 60/100\n",
            "\n",
            "Epoch 60: saving model to training_checkpoints/cp-0060.weights.h5\n",
            "858/858 - 1s - 1ms/step - accuracy: 1.0000 - loss: 0.0093 - val_accuracy: 1.0000 - val_loss: 0.0093\n",
            "Epoch 61/100\n",
            "858/858 - 1s - 1ms/step - accuracy: 1.0000 - loss: 0.0092 - val_accuracy: 1.0000 - val_loss: 0.0091\n",
            "Epoch 62/100\n",
            "858/858 - 1s - 935us/step - accuracy: 1.0000 - loss: 0.0091 - val_accuracy: 1.0000 - val_loss: 0.0090\n",
            "Epoch 63/100\n",
            "858/858 - 1s - 1ms/step - accuracy: 1.0000 - loss: 0.0089 - val_accuracy: 1.0000 - val_loss: 0.0089\n",
            "Epoch 64/100\n",
            "858/858 - 1s - 967us/step - accuracy: 1.0000 - loss: 0.0088 - val_accuracy: 1.0000 - val_loss: 0.0088\n",
            "Epoch 65/100\n",
            "\n",
            "Epoch 65: saving model to training_checkpoints/cp-0065.weights.h5\n",
            "858/858 - 1s - 975us/step - accuracy: 1.0000 - loss: 0.0087 - val_accuracy: 1.0000 - val_loss: 0.0089\n",
            "Epoch 66/100\n",
            "858/858 - 1s - 980us/step - accuracy: 1.0000 - loss: 0.0087 - val_accuracy: 1.0000 - val_loss: 0.0086\n",
            "Epoch 67/100\n",
            "858/858 - 1s - 927us/step - accuracy: 1.0000 - loss: 0.0085 - val_accuracy: 1.0000 - val_loss: 0.0085\n",
            "Epoch 68/100\n",
            "858/858 - 1s - 928us/step - accuracy: 1.0000 - loss: 0.0086 - val_accuracy: 1.0000 - val_loss: 0.0084\n",
            "Epoch 69/100\n",
            "858/858 - 1s - 957us/step - accuracy: 1.0000 - loss: 0.0084 - val_accuracy: 1.0000 - val_loss: 0.0084\n",
            "Epoch 70/100\n",
            "\n",
            "Epoch 70: saving model to training_checkpoints/cp-0070.weights.h5\n",
            "858/858 - 1s - 992us/step - accuracy: 1.0000 - loss: 0.0083 - val_accuracy: 1.0000 - val_loss: 0.0083\n",
            "Epoch 71/100\n",
            "858/858 - 1s - 989us/step - accuracy: 1.0000 - loss: 0.0082 - val_accuracy: 1.0000 - val_loss: 0.0082\n",
            "Epoch 72/100\n",
            "858/858 - 1s - 972us/step - accuracy: 1.0000 - loss: 0.0081 - val_accuracy: 1.0000 - val_loss: 0.0081\n",
            "Epoch 73/100\n",
            "858/858 - 1s - 948us/step - accuracy: 1.0000 - loss: 0.0081 - val_accuracy: 1.0000 - val_loss: 0.0080\n",
            "Epoch 74/100\n",
            "858/858 - 1s - 912us/step - accuracy: 1.0000 - loss: 0.0080 - val_accuracy: 1.0000 - val_loss: 0.0079\n",
            "Epoch 75/100\n",
            "\n",
            "Epoch 75: saving model to training_checkpoints/cp-0075.weights.h5\n",
            "858/858 - 1s - 1ms/step - accuracy: 1.0000 - loss: 0.0079 - val_accuracy: 1.0000 - val_loss: 0.0078\n",
            "Epoch 76/100\n",
            "858/858 - 1s - 939us/step - accuracy: 1.0000 - loss: 0.0078 - val_accuracy: 1.0000 - val_loss: 0.0077\n",
            "Epoch 77/100\n",
            "858/858 - 1s - 985us/step - accuracy: 1.0000 - loss: 0.0077 - val_accuracy: 1.0000 - val_loss: 0.0076\n",
            "Epoch 78/100\n",
            "858/858 - 1s - 951us/step - accuracy: 1.0000 - loss: 0.0076 - val_accuracy: 1.0000 - val_loss: 0.0076\n",
            "Epoch 79/100\n",
            "858/858 - 1s - 954us/step - accuracy: 0.9999 - loss: 0.0078 - val_accuracy: 1.0000 - val_loss: 0.0075\n",
            "Epoch 80/100\n",
            "\n",
            "Epoch 80: saving model to training_checkpoints/cp-0080.weights.h5\n",
            "858/858 - 1s - 972us/step - accuracy: 1.0000 - loss: 0.0076 - val_accuracy: 1.0000 - val_loss: 0.0075\n",
            "Epoch 81/100\n",
            "858/858 - 1s - 940us/step - accuracy: 1.0000 - loss: 0.0075 - val_accuracy: 1.0000 - val_loss: 0.0074\n",
            "Epoch 82/100\n",
            "858/858 - 1s - 904us/step - accuracy: 1.0000 - loss: 0.0074 - val_accuracy: 1.0000 - val_loss: 0.0074\n",
            "Epoch 83/100\n",
            "858/858 - 1s - 921us/step - accuracy: 1.0000 - loss: 0.0074 - val_accuracy: 1.0000 - val_loss: 0.0074\n",
            "Epoch 84/100\n",
            "858/858 - 1s - 910us/step - accuracy: 1.0000 - loss: 0.0073 - val_accuracy: 1.0000 - val_loss: 0.0073\n",
            "Epoch 85/100\n",
            "\n",
            "Epoch 85: saving model to training_checkpoints/cp-0085.weights.h5\n",
            "858/858 - 1s - 957us/step - accuracy: 1.0000 - loss: 0.0072 - val_accuracy: 1.0000 - val_loss: 0.0072\n",
            "Epoch 86/100\n",
            "858/858 - 1s - 924us/step - accuracy: 1.0000 - loss: 0.0072 - val_accuracy: 1.0000 - val_loss: 0.0071\n",
            "Epoch 87/100\n",
            "858/858 - 1s - 944us/step - accuracy: 1.0000 - loss: 0.0071 - val_accuracy: 1.0000 - val_loss: 0.0071\n",
            "Epoch 88/100\n",
            "858/858 - 1s - 914us/step - accuracy: 1.0000 - loss: 0.0070 - val_accuracy: 1.0000 - val_loss: 0.0070\n",
            "Epoch 89/100\n",
            "858/858 - 1s - 912us/step - accuracy: 1.0000 - loss: 0.0070 - val_accuracy: 1.0000 - val_loss: 0.0069\n",
            "Epoch 90/100\n",
            "\n",
            "Epoch 90: saving model to training_checkpoints/cp-0090.weights.h5\n",
            "858/858 - 1s - 929us/step - accuracy: 1.0000 - loss: 0.0069 - val_accuracy: 1.0000 - val_loss: 0.0069\n",
            "Epoch 91/100\n",
            "858/858 - 1s - 902us/step - accuracy: 0.9999 - loss: 0.0072 - val_accuracy: 1.0000 - val_loss: 0.0075\n",
            "Epoch 92/100\n",
            "858/858 - 1s - 963us/step - accuracy: 1.0000 - loss: 0.0068 - val_accuracy: 1.0000 - val_loss: 0.0068\n",
            "Epoch 93/100\n",
            "858/858 - 1s - 923us/step - accuracy: 1.0000 - loss: 0.0068 - val_accuracy: 1.0000 - val_loss: 0.0068\n",
            "Epoch 94/100\n",
            "858/858 - 1s - 921us/step - accuracy: 1.0000 - loss: 0.0068 - val_accuracy: 1.0000 - val_loss: 0.0067\n",
            "Epoch 95/100\n",
            "\n",
            "Epoch 95: saving model to training_checkpoints/cp-0095.weights.h5\n",
            "858/858 - 1s - 942us/step - accuracy: 1.0000 - loss: 0.0067 - val_accuracy: 1.0000 - val_loss: 0.0067\n",
            "Epoch 96/100\n",
            "858/858 - 1s - 943us/step - accuracy: 1.0000 - loss: 0.0067 - val_accuracy: 1.0000 - val_loss: 0.0066\n",
            "Epoch 97/100\n",
            "858/858 - 1s - 928us/step - accuracy: 1.0000 - loss: 0.0066 - val_accuracy: 1.0000 - val_loss: 0.0066\n",
            "Epoch 98/100\n",
            "858/858 - 1s - 931us/step - accuracy: 1.0000 - loss: 0.0065 - val_accuracy: 1.0000 - val_loss: 0.0065\n",
            "Epoch 99/100\n",
            "858/858 - 1s - 914us/step - accuracy: 1.0000 - loss: 0.0065 - val_accuracy: 1.0000 - val_loss: 0.0065\n",
            "Epoch 100/100\n",
            "\n",
            "Epoch 100: saving model to training_checkpoints/cp-0100.weights.h5\n",
            "858/858 - 1s - 931us/step - accuracy: 1.0000 - loss: 0.0064 - val_accuracy: 1.0000 - val_loss: 0.0064\n"
          ]
        }
      ],
      "source": [
        "history = nn.fit(X_train_scaled, y_train, epochs=100, batch_size=32, validation_data=(X_test_scaled, y_test), callbacks=[cp_callback], verbose=2)"
      ]
    },
    {
      "cell_type": "code",
      "execution_count": 15,
      "metadata": {
        "colab": {
          "base_uri": "https://localhost:8080/"
        },
        "id": "pKovhPcTDSBj",
        "outputId": "7db5ac55-a00b-4389-a8fe-1586ee03e233"
      },
      "outputs": [
        {
          "name": "stdout",
          "output_type": "stream",
          "text": [
            "\u001b[1m215/215\u001b[0m \u001b[32m━━━━━━━━━━━━━━━━━━━━\u001b[0m\u001b[37m\u001b[0m \u001b[1m0s\u001b[0m 646us/step - accuracy: 1.0000 - loss: 0.0064\n",
            "Test Loss: 0.006388329900801182, Test Accuracy: 1.0\n"
          ]
        }
      ],
      "source": [
        "# Evaluate the model using the test data\n",
        "model_loss, model_accuracy = nn.evaluate(X_test_scaled, y_test, verbose=1)\n",
        "print(f\"Test Loss: {model_loss}, Test Accuracy: {model_accuracy}\")\n"
      ]
    },
    {
      "cell_type": "code",
      "execution_count": 20,
      "metadata": {
        "colab": {
          "base_uri": "https://localhost:8080/"
        },
        "id": "Ej45ZpxKDSBk",
        "outputId": "f3f239fb-98f0-40c4-d4e7-dc4afba70fb8"
      },
      "outputs": [
        {
          "name": "stderr",
          "output_type": "stream",
          "text": [
            "WARNING:absl:You are saving your model as an HDF5 file via `model.save()` or `keras.saving.save_model(model)`. This file format is considered legacy. We recommend using instead the native Keras format, e.g. `model.save('my_model.keras')` or `keras.saving.save_model(model, 'my_model.keras')`. \n",
            "WARNING:absl:You are saving your model as an HDF5 file via `model.save()` or `keras.saving.save_model(model)`. This file format is considered legacy. We recommend using instead the native Keras format, e.g. `model.save('my_model.keras')` or `keras.saving.save_model(model, 'my_model.keras')`. \n"
          ]
        }
      ],
      "source": [
        "# Export the model to HDF5 file\n",
        "nn.save('Training_models_AlphabetSoupCharity.h5')\n",
        "nn.save('AlphabetSoupCharity.h5')\n"
      ]
    },
    {
      "cell_type": "code",
      "execution_count": 19,
      "metadata": {
        "colab": {
          "base_uri": "https://localhost:8080/",
          "height": 487
        },
        "id": "BMhPcSDIiIq-",
        "outputId": "16e04074-9d7b-4406-c3b6-539fee8f6fc3"
      },
      "outputs": [
        {
          "data": {
            "image/png": "[encoded data removed]",
            "text/plain": [
              "<Figure size 1400x500 with 2 Axes>"
            ]
          },
          "metadata": {},
          "output_type": "display_data"
        }
      ],
      "source": [
        "import matplotlib.pyplot as plt\n",
        "\n",
        "# Plot training & validation accuracy values\n",
        "plt.figure(figsize=(14, 5))\n",
        "\n",
        "# Plot accuracy\n",
        "plt.subplot(1, 2, 1)\n",
        "plt.plot(history.history['accuracy'], color='purple')  # Training accuracy color\n",
        "plt.plot(history.history['val_accuracy'], color='pink')  # Validation accuracy color\n",
        "plt.title('Model accuracy')\n",
        "plt.ylabel('Accuracy')\n",
        "plt.xlabel('Epoch')\n",
        "plt.legend(['Train', 'Test'], loc='upper left')\n",
        "\n",
        "# Plot training & validation loss values\n",
        "plt.subplot(1, 2, 2)\n",
        "plt.plot(history.history['loss'], color='green')  # Training loss color\n",
        "plt.plot(history.history['val_loss'], color='red')  # Validation loss color\n",
        "plt.title('Model loss')\n",
        "plt.ylabel('Loss')\n",
        "plt.xlabel('Epoch')\n",
        "plt.legend(['Train', 'Test'], loc='upper left')\n",
        "\n",
        "plt.show()\n"
      ]
    },
    {
      "cell_type": "markdown",
      "metadata": {},
      "source": [
        "# Analysis of Model Performance\n",
        "\n",
        "Purpose of the Analysis\n",
        "This analysis aims to evaluate the performance of a machine learning model by examining its training and validation accuracy and loss over epochs. Understanding these metrics will help us determine how well the model is learning from the data and generalizing to unseen data.\n",
        "\n",
        "**Analysis Report: Model Performance Evaluation**\n",
        "\n",
        "### 1. Introduction\n",
        "\n",
        "**Purpose of the Analysis**\n",
        "\n",
        "The purpose of this analysis is to evaluate the performance of a predictive model by examining key metrics such as accuracy and loss. This will help in understanding the effectiveness of the model and in identifying potential areas for improvement. By comparing these metrics, we can determine how well the model is performing and consider alternative approaches for optimization.\n",
        "\n",
        "### 2. Metrics Overview\n",
        "\n",
        "**Accuracy**\n",
        "\n",
        "- **Definition**: Accuracy is the ratio of correctly predicted instances to the total number of instances. \n",
        "- **Value**: 1.0\n",
        "- **Interpretation**: An accuracy of 1.0 indicates that the model has correctly classified all instances in the dataset, suggesting perfect performance in terms of classification accuracy.\n",
        "\n",
        "**Loss**\n",
        "\n",
        "- **Definition**: Loss measures the difference between the predicted values and the actual values. It quantifies the error of the model.\n",
        "- **Value**: 0.0064\n",
        "- **Interpretation**: A loss of 0.0064 is quite low, indicating that the model’s predictions are very close to the actual values. This suggests that the model performs well with minimal error.\n",
        "\n",
        "### 3. Results\n",
        "\n",
        "**1. How accurate is the model?**\n",
        "\n",
        "The model's accuracy is 1.0, which signifies perfect accuracy—every prediction made by the model is correct.\n",
        "\n",
        "**2. What is the loss value of the model?**\n",
        "\n",
        "The loss value is 0.0064, indicating a very low level of error in the model's predictions.\n",
        "\n",
        "**3. How does the accuracy compare to typical benchmarks?**\n",
        "\n",
        "An accuracy of 1.0 is significantly higher than typical benchmarks, which often range between 0.7 and 0.9 for most models. This suggests that the model is performing exceptionally well.\n",
        "\n",
        "**4. How does the loss value compare to typical benchmarks?**\n",
        "\n",
        "The loss value of 0.0064 is considerably lower than typical benchmarks. In many cases, loss values range from 0.1 to 0.01, so this model's loss indicates very high precision in its predictions.\n",
        "\n",
        "**5. What might be the limitations of having an accuracy of 1.0?**\n",
        "\n",
        "While a perfect accuracy of 1.0 seems ideal, it may also indicate overfitting if the model is evaluated on a limited dataset. Overfitting occurs when a model learns the training data too well, including its noise and outliers, which may lead to poor generalization to new, unseen data.\n",
        "\n",
        "**6. How can the model’s performance be further validated?**\n",
        "\n",
        "The model’s performance can be validated by evaluating it on a separate validation or test set that was not used during training. Cross-validation techniques can also be applied to ensure that the model generalizes well across different subsets of the data.\n",
        "\n",
        "### 4. Model Comparison\n",
        "\n",
        "**Alternative Model: Decision Trees**\n",
        "\n",
        "- **Description**: Decision Trees are a type of model that uses a tree-like graph of decisions and their possible consequences. It’s a popular method for classification and regression tasks.\n",
        "- **Advantages**: Decision Trees are interpretable and easy to visualize. They handle both numerical and categorical data well and can capture non-linear relationships.\n",
        "- **Reason for Use**: If the current model's perfect accuracy might be due to overfitting, using Decision Trees can provide a different perspective. Decision Trees can help identify how different features impact predictions and may provide insights into potential overfitting issues. Additionally, techniques like pruning can be applied to Decision Trees to improve generalization.\n",
        "\n",
        "### 5. Summary of Results\n",
        "\n",
        "The model demonstrates exceptional performance with an accuracy of 1.0 and a low loss value of 0.0064. This indicates that the model’s predictions are highly accurate and closely match the actual values. However, there is a potential risk of overfitting that should be addressed by validating the model on additional data.\n",
        "\n",
        "By considering alternative models like Decision Trees, we can further explore the robustness and generalizability of our predictions, ensuring that the model’s performance is not solely due to overfitting.\n"
      ]
    }
  ],
  "metadata": {
    "colab": {
      "provenance": []
    },
    "kernelspec": {
      "display_name": "Python 3",
      "language": "python",
      "name": "python3"
    },
    "language_info": {
      "codemirror_mode": {
        "name": "ipython",
        "version": 3
      },
      "file_extension": ".py",
      "mimetype": "text/x-python",
      "name": "python",
      "nbconvert_exporter": "python",
      "pygments_lexer": "ipython3",
      "version": "3.10.0"
    },
    "vscode": {
      "interpreter": {
        "hash": "31f2aee4e71d21fbe5cf8b01ff0e069b9275f58929596ceb00d14d90e3e16cd6"
      }
    }
  },
  "nbformat": 4,
  "nbformat_minor": 0
}
